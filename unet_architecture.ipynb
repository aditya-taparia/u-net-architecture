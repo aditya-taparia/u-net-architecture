{
  "nbformat": 4,
  "nbformat_minor": 0,
  "metadata": {
    "colab": {
      "name": "unet_test.ipynb",
      "provenance": []
    },
    "kernelspec": {
      "name": "python3",
      "display_name": "Python 3"
    },
    "language_info": {
      "name": "python"
    }
  },
  "cells": [
    {
      "cell_type": "code",
      "source": [
        "!pip install segmentation-models\n",
        "!pip install keras.utils"
      ],
      "metadata": {
        "id": "b-JFdmSqLUwV"
      },
      "execution_count": null,
      "outputs": []
    },
    {
      "cell_type": "code",
      "source": [
        "# Importing libraries for the implementation\n",
        "import os\n",
        "import cv2\n",
        "from tensorflow.python.keras.metrics import MeanIoU\n",
        "from sklearn.preprocessing import MinMaxScaler,StandardScaler\n",
        "import numpy as np\n",
        "from keras.utils import generic_utils\n",
        "from keras.utils.np_utils import to_categorical\n",
        "from keras.models import Model\n",
        "from keras.layers import Input, Conv2D, MaxPooling2D, UpSampling2D, concatenate, Conv2DTranspose, BatchNormalization, Dropout, Lambda\n",
        "from keras import backend as K\n",
        "import segmentation_models as sm\n",
        "from matplotlib import pyplot as plt\n",
        "from sklearn.model_selection import train_test_split\n",
        "\n",
        "# For accessing files in drive\n",
        "from google.colab import drive\n",
        "drive.mount('/content/drive')"
      ],
      "metadata": {
        "colab": {
          "base_uri": "https://localhost:8080/"
        },
        "id": "D0tghz6YKdC2",
        "outputId": "d244deb0-def6-4e04-938c-a3162a27c153"
      },
      "execution_count": 71,
      "outputs": [
        {
          "output_type": "stream",
          "name": "stdout",
          "text": [
            "Drive already mounted at /content/drive; to attempt to forcibly remount, call drive.mount(\"/content/drive\", force_remount=True).\n"
          ]
        }
      ]
    },
    {
      "cell_type": "code",
      "source": [
        "# File location in drive\n",
        "file_root = '/content/drive/MyDrive/Colab Notebooks/Honours/unet/Semantic segmentation dataset/'\n",
        "\n",
        "# Array to store images and masks of those images\n",
        "imagearray=[]\n",
        "maskarray=[]\n",
        "\n",
        "# Adding images in imagearray list\n",
        "for path,subs,files in os.walk(file_root):\n",
        "    dirname=path.split(os.path.sep)[-1]\n",
        "    if dirname==\"images\":\n",
        "        images=os.listdir(path)\n",
        "        for i,name in enumerate(images):\n",
        "            if name.endswith(\".jpg\"):\n",
        "                image=cv2.imread(path+\"/\"+name,1)\n",
        "                image=cv2.resize(image,(256,256))\n",
        "                image=np.array(image)\n",
        "                imagearray.append(image)\n",
        "\n",
        "# Adding masks in maskarray list\n",
        "for path,subs,files in os.walk(file_root):\n",
        "    dirname=path.split(os.path.sep)[-1]\n",
        "    if dirname==\"masks\":\n",
        "        masks=os.listdir(path)\n",
        "        for i,M_name in enumerate(masks):\n",
        "            if M_name.endswith(\".png\"):\n",
        "                mask =cv2.imread(path+\"/\"+M_name,1)\n",
        "                mask =cv2.cvtColor(mask,cv2.COLOR_BGR2RGB)\n",
        "                mask =cv2.resize(mask,(256,256))\n",
        "                mask =np.array(mask)\n",
        "                maskarray.append(mask)\n",
        "\n",
        "# Converting imagearray list and maskarray list to array\n",
        "imagedata = np.array(imagearray)\n",
        "maskdata =  np.array(maskarray)"
      ],
      "metadata": {
        "id": "1Bv0cu_yNvq3"
      },
      "execution_count": 72,
      "outputs": []
    },
    {
      "cell_type": "code",
      "source": [
        "# Colors of various classes in the model\n",
        "Building=np.array([60,16,152])\n",
        "Land=np.array([132,41,246])\n",
        "road=np.array([110,193,228])\n",
        "Vegetation=np.array([254,221,58])\n",
        "water=np.array([226,169,41])\n",
        "Unlabeled =np.array([155,155,155])\n",
        "\n",
        "# Storing maskdata in a variable\n",
        "label = maskdata\n",
        "\n",
        "# Function to generate flat labels for the given label\n",
        "def flatLabels(label):\n",
        "    label_seg = np.zeros(label.shape, dtype=np.uint8)\n",
        "    label_seg[np.all(label == Building, axis=-1)] = 0\n",
        "    label_seg[np.all(label == Land, axis=-1)] = 1\n",
        "    label_seg[np.all(label == road, axis=-1)] = 2\n",
        "    label_seg[np.all(label == Vegetation, axis=-1)] = 3\n",
        "    label_seg[np.all(label == water, axis=-1)] = 4\n",
        "    label_seg[np.all(label == Unlabeled, axis=-1)] = 5\n",
        "\n",
        "    label_seg = label_seg[:, :, 0]  # Just take the first channel, no need for all 3 channels\n",
        "\n",
        "    return label_seg\n",
        "\n",
        "labels = []\n",
        "\n",
        "# Converting maskdata to flat label and storing it in labels list\n",
        "for i in range(maskdata.shape[0]):\n",
        "    label = flatLabels(maskdata[i])\n",
        "    labels.append(label)\n",
        "\n",
        "# Converting labels list to array\n",
        "labels = np.array(labels)\n",
        "labels = np.expand_dims(labels, axis=3)"
      ],
      "metadata": {
        "id": "FmkCwTUDQytY"
      },
      "execution_count": 77,
      "outputs": []
    },
    {
      "cell_type": "code",
      "source": [
        "# Selecting and displaying random image from dataset and its mask\n",
        "import random\n",
        "image_number = random.randint(0, len(imagearray))\n",
        "plt.figure(figsize=(12, 6))\n",
        "plt.subplot(121)\n",
        "plt.imshow(imagearray[image_number])\n",
        "plt.subplot(122)\n",
        "plt.imshow(labels[image_number][:,:,0])\n",
        "plt.show()"
      ],
      "metadata": {
        "id": "PBH4NVkiX2u7"
      },
      "execution_count": null,
      "outputs": []
    },
    {
      "cell_type": "code",
      "source": [
        "# Finding number of unique classes from labels array\n",
        "n_classes = len(np.unique(labels))\n",
        "\n",
        "# Seperating all the unique labels\n",
        "labels_cat = to_categorical(labels, num_classes=n_classes)\n",
        "\n",
        "# Splitting data in 8:2 ratio for training and testing purpose\n",
        "X_train, X_test, y_train, y_test = train_test_split(imagedata, labels_cat, test_size = 0.20)\n",
        "\n",
        "# Weights are optional if not defined it will automatically be set to 1\n",
        "weights = [0.155, 0.155, 0.155, 0.155, 0.155, 0.155]\n",
        "\n",
        "# Getting dice loss\n",
        "dice_loss=sm.losses.DiceLoss(class_weights=weights)\n",
        "focal=sm.losses.CategoricalFocalLoss()\n",
        "total=dice_loss+(1*focal)"
      ],
      "metadata": {
        "id": "KmLH7D85Q4S5"
      },
      "execution_count": null,
      "outputs": []
    },
    {
      "cell_type": "code",
      "source": [
        "# Function to find jacard_coef for loss\n",
        "def jacard_coef(y_true, y_pred):\n",
        "    y_true_f = K.flatten(y_true)\n",
        "    y_pred_f = K.flatten(y_pred)\n",
        "    intersection = K.sum(y_true_f * y_pred_f)\n",
        "    return (intersection + 1.0) / (K.sum(y_true_f) + K.sum(y_pred_f) - intersection + 1.0)\n",
        "\n",
        "# Function to build unet model\n",
        "def unet(n_classes=4, IMG_HEIGHT=256, IMG_WIDTH=256, IMG_CHANNELS=1):\n",
        "    # Build the model\n",
        "    inputs = Input((IMG_HEIGHT, IMG_WIDTH, IMG_CHANNELS))\n",
        "    # Define input layer\n",
        "    s = inputs\n",
        "\n",
        "    # Contraction part\n",
        "    c1 = Conv2D(16, (3, 3), activation='relu', kernel_initializer='he_normal', padding='same')(s)\n",
        "    c1 = Dropout(0.2)(c1)\n",
        "    c1 = Conv2D(16, (3, 3), activation='relu', kernel_initializer='he_normal', padding='same')(c1)\n",
        "    p1 = MaxPooling2D((2, 2))(c1)\n",
        "\n",
        "    c2 = Conv2D(32, (3, 3), activation='relu', kernel_initializer='he_normal', padding='same')(p1)\n",
        "    c2 = Dropout(0.2)(c2)\n",
        "    c2 = Conv2D(32, (3, 3), activation='relu', kernel_initializer='he_normal', padding='same')(c2)\n",
        "    p2 = MaxPooling2D((2, 2))(c2)\n",
        "\n",
        "    c3 = Conv2D(64, (3, 3), activation='relu', kernel_initializer='he_normal', padding='same')(p2)\n",
        "    c3 = Dropout(0.2)(c3)\n",
        "    c3 = Conv2D(64, (3, 3), activation='relu', kernel_initializer='he_normal', padding='same')(c3)\n",
        "    p3 = MaxPooling2D((2, 2))(c3)\n",
        "\n",
        "    c4 = Conv2D(128, (3, 3), activation='relu', kernel_initializer='he_normal', padding='same')(p3)\n",
        "    c4 = Dropout(0.2)(c4)\n",
        "    c4 = Conv2D(128, (3, 3), activation='relu', kernel_initializer='he_normal', padding='same')(c4)\n",
        "    p4 = MaxPooling2D(pool_size=(2, 2))(c4)\n",
        "\n",
        "    c5 = Conv2D(256, (3, 3), activation='relu', kernel_initializer='he_normal', padding='same')(p4)\n",
        "    c5 = Dropout(0.3)(c5)\n",
        "    c5 = Conv2D(256, (3, 3), activation='relu', kernel_initializer='he_normal', padding='same')(c5)\n",
        "\n",
        "    # Expansive path\n",
        "    u6 = Conv2DTranspose(128, (2, 2), strides=(2, 2), padding='same')(c5)\n",
        "    u6 = concatenate([u6, c4])\n",
        "    c6 = Conv2D(128, (3, 3), activation='relu', kernel_initializer='he_normal', padding='same')(u6)\n",
        "    c6 = Dropout(0.2)(c6)\n",
        "    c6 = Conv2D(128, (3, 3), activation='relu', kernel_initializer='he_normal', padding='same')(c6)\n",
        "\n",
        "    u7 = Conv2DTranspose(64, (2, 2), strides=(2, 2), padding='same')(c6)\n",
        "    u7 = concatenate([u7, c3])\n",
        "    c7 = Conv2D(64, (3, 3), activation='relu', kernel_initializer='he_normal', padding='same')(u7)\n",
        "    c7 = Dropout(0.2)(c7)\n",
        "    c7 = Conv2D(64, (3, 3), activation='relu', kernel_initializer='he_normal', padding='same')(c7)\n",
        "\n",
        "    u8 = Conv2DTranspose(32, (2, 2), strides=(2, 2), padding='same')(c7)\n",
        "    u8 = concatenate([u8, c2])\n",
        "    c8 = Conv2D(32, (3, 3), activation='relu', kernel_initializer='he_normal', padding='same')(u8)\n",
        "    c8 = Dropout(0.2)(c8)\n",
        "    c8 = Conv2D(32, (3, 3), activation='relu', kernel_initializer='he_normal', padding='same')(c8)\n",
        "\n",
        "    u9 = Conv2DTranspose(16, (2, 2), strides=(2, 2), padding='same')(c8)\n",
        "    u9 = concatenate([u9, c1], axis=3)\n",
        "    c9 = Conv2D(16, (3, 3), activation='relu', kernel_initializer='he_normal', padding='same')(u9)\n",
        "    c9 = Dropout(0.2)(c9)\n",
        "    c9 = Conv2D(16, (3, 3), activation='relu', kernel_initializer='he_normal', padding='same')(c9)\n",
        "    \n",
        "    # Define output layer\n",
        "    outputs = Conv2D(n_classes, (1, 1), activation='softmax')(c9)\n",
        "\n",
        "    # Creating the model\n",
        "    model = Model(inputs=[inputs], outputs=[outputs])\n",
        "    \n",
        "    # Returning the model\n",
        "    return model"
      ],
      "metadata": {
        "id": "Opz2HjyXRYEh"
      },
      "execution_count": null,
      "outputs": []
    },
    {
      "cell_type": "code",
      "source": [
        "# Training the model on 30 epochs\n",
        "IMG_HEIGHT = X_train.shape[1]\n",
        "IMG_WIDTH  = X_train.shape[2]\n",
        "IMG_CHANNELS = X_train.shape[3]\n",
        "\n",
        "metrics=['accuracy', jacard_coef]\n",
        "\n",
        "def get_model():\n",
        "    return unet(n_classes=n_classes, IMG_HEIGHT=IMG_HEIGHT, IMG_WIDTH=IMG_WIDTH, IMG_CHANNELS=IMG_CHANNELS)\n",
        "\n",
        "model = get_model()\n",
        "model.compile(optimizer='adam', loss=total, metrics=metrics)\n",
        "model.summary()\n",
        "\n",
        "history1 = model.fit(X_train, y_train,\n",
        "                    batch_size = 16,\n",
        "                    verbose=1,\n",
        "                    epochs=30,\n",
        "                    validation_data=(X_test, y_test),\n",
        "                    shuffle=False)"
      ],
      "metadata": {
        "id": "gF1E6K-7RgZl"
      },
      "execution_count": null,
      "outputs": []
    },
    {
      "cell_type": "code",
      "source": [
        "# Plotting Training and validation loss\n",
        "history = history1\n",
        "loss = history.history['loss']\n",
        "val_loss = history.history['val_loss']\n",
        "epochs = range(1, len(loss) + 1)\n",
        "plt.plot(epochs, loss, 'y', label='Training loss')\n",
        "plt.plot(epochs, val_loss, 'r', label='Validation loss')\n",
        "plt.title('Training and validation loss')\n",
        "plt.xlabel('Epochs')\n",
        "plt.ylabel('Loss')\n",
        "plt.legend()\n",
        "plt.show()\n",
        "\n",
        "# Plotting Training and validation IoU\n",
        "acc = history.history['jacard_coef']\n",
        "val_acc = history.history['val_jacard_coef']\n",
        "plt.plot(epochs, acc, 'y', label='Training IoU')\n",
        "plt.plot(epochs, val_acc, 'r', label='Validation IoU')\n",
        "plt.title('Training and validation IoU')\n",
        "plt.xlabel('Epochs')\n",
        "plt.ylabel('IoU')\n",
        "plt.legend()\n",
        "plt.show()"
      ],
      "metadata": {
        "id": "hwNiTnpBWCIC"
      },
      "execution_count": null,
      "outputs": []
    },
    {
      "cell_type": "code",
      "source": [
        "# Testing the model trained through a randomly selected image from test dataset\n",
        "x_test_argmax=np.argmax(X_test, axis=3)\n",
        "\n",
        "test_img_number = random.randint(0, len(X_test))\n",
        "test_img = X_test[test_img_number]\n",
        "ground_truth=x_test_argmax[test_img_number]\n",
        "\n",
        "test_img_input=np.expand_dims(test_img, 0)\n",
        "prediction = (model.predict(test_img_input))\n",
        "predicted_img=np.argmax(prediction, axis=3)[0,:,:]"
      ],
      "metadata": {
        "id": "7p_h0iYeZNj_"
      },
      "execution_count": null,
      "outputs": []
    },
    {
      "cell_type": "code",
      "source": [
        "# Plotting the predicted segmentation image\n",
        "plt.figure(figsize=(12, 8))\n",
        "plt.subplot(231)\n",
        "plt.title('Testing Image')\n",
        "plt.imshow(test_img)\n",
        "plt.subplot(232)\n",
        "plt.title('Testing Label')\n",
        "plt.imshow(ground_truth)\n",
        "plt.subplot(233)\n",
        "plt.title('Prediction on test image')\n",
        "plt.imshow(predicted_img)\n",
        "plt.show()"
      ],
      "metadata": {
        "id": "rsWd84lXbUrS"
      },
      "execution_count": null,
      "outputs": []
    }
  ]
}